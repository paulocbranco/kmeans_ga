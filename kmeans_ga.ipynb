{
 "cells": [
  {
   "cell_type": "markdown",
   "metadata": {},
   "source": [
    "# Machine Learning Talks\n",
    "## Genetic Algorithms applied to Cluster Analysis on Football Players\n",
    "\n",
    "This notebook was developed by Paulo Branco for the Cleverti's Machine Learning Talks. In this talk I'm going introduce you to Genetic Algorithms, first with a brief teorical introduction, following by a small example developed in python where GA is applied to the practical example presented in the first session by André Miranda.\n",
    "\n",
    "Hope you like it!\n",
    "Dataset source: https://www.kaggle.com/karangadiya/fifa19"
   ]
  },
  {
   "cell_type": "code",
   "execution_count": 55,
   "metadata": {},
   "outputs": [],
   "source": [
    "# IMPORTING MODULES\n",
    "import time\n",
    "import numpy as np\n",
    "import pandas as pd\n",
    "import matplotlib.pyplot as plt\n",
    "from sklearn import cluster\n",
    "from sklearn.metrics import silhouette_score"
   ]
  },
  {
   "cell_type": "markdown",
   "metadata": {},
   "source": [
    "### Import data"
   ]
  },
  {
   "cell_type": "code",
   "execution_count": 56,
   "metadata": {},
   "outputs": [
    {
     "name": "stdout",
     "output_type": "stream",
     "text": [
      "(18207, 86)\n",
      "Index(['Age', 'Photo', 'Nationality', 'Flag', 'Overall', 'Potential', 'Club',\n",
      "       'Club Logo', 'Value', 'Wage', 'Special', 'Preferred Foot',\n",
      "       'International Reputation', 'Weak Foot', 'Skill Moves', 'Work Rate',\n",
      "       'Body Type', 'Real Face', 'Position', 'Jersey Number', 'Joined',\n",
      "       'Loaned From', 'Contract Valid Until', 'Height', 'Weight', 'LS', 'ST',\n",
      "       'RS', 'LW', 'LF', 'CF', 'RF', 'RW', 'LAM', 'CAM', 'RAM', 'LM', 'LCM',\n",
      "       'CM', 'RCM', 'RM', 'LWB', 'LDM', 'CDM', 'RDM', 'RWB', 'LB', 'LCB', 'CB',\n",
      "       'RCB', 'RB', 'Crossing', 'Finishing', 'HeadingAccuracy', 'ShortPassing',\n",
      "       'Volleys', 'Dribbling', 'Curve', 'FKAccuracy', 'LongPassing',\n",
      "       'BallControl', 'Acceleration', 'SprintSpeed', 'Agility', 'Reactions',\n",
      "       'Balance', 'ShotPower', 'Jumping', 'Stamina', 'Strength', 'LongShots',\n",
      "       'Aggression', 'Interceptions', 'Positioning', 'Vision', 'Penalties',\n",
      "       'Composure', 'Marking', 'StandingTackle', 'SlidingTackle', 'GKDiving',\n",
      "       'GKHandling', 'GKKicking', 'GKPositioning', 'GKReflexes',\n",
      "       'Release Clause'],\n",
      "      dtype='object')\n"
     ]
    }
   ],
   "source": [
    "player_data = pd.read_csv('data.csv')  # imports the CSV file with the player data from FIFA 19\n",
    "player_data.set_index('Name', inplace=True)  # sets players's name as index\n",
    "player_data.drop(['Unnamed: 0', 'ID'], axis=1, inplace=True)  # remove useless columns\n",
    "\n",
    "print(player_data.shape)  # data dimensions\n",
    "print(player_data.columns) # columns available"
   ]
  },
  {
   "cell_type": "markdown",
   "metadata": {},
   "source": [
    "### Data Preparation"
   ]
  },
  {
   "cell_type": "code",
   "execution_count": 57,
   "metadata": {},
   "outputs": [
    {
     "name": "stdout",
     "output_type": "stream",
     "text": [
      "(193, 29)\n"
     ]
    }
   ],
   "source": [
    "# We are going to filter the players for our analysis\n",
    "player_data_raw = player_data  # we'll keep the raw data for later\n",
    "player_data = player_data[player_data['Overall'] > 82]  # filter the best players\n",
    "player_data = player_data[player_data['Position'] != 'GK'] # removes Goal Keepers\n",
    "features_to_keep = [\n",
    "    'Crossing', 'Finishing', 'HeadingAccuracy', 'ShortPassing', 'Volleys', 'Dribbling',\n",
    "    'Curve', 'FKAccuracy', 'LongPassing', 'BallControl', 'Acceleration', 'SprintSpeed', 'Agility', 'Reactions',\n",
    "    'Balance', 'ShotPower', 'Jumping', 'Stamina', 'Strength', 'LongShots', 'Aggression', 'Interceptions',\n",
    "    'Positioning', 'Vision', 'Penalties', 'Composure', 'Marking', 'StandingTackle', 'SlidingTackle'\n",
    "]\n",
    "player_data = player_data[features_to_keep]  # keep only the chosen features\n",
    "print(player_data.shape)  # data dimensions\n",
    "data_matrix = player_data[list(player_data.columns)[2:]].values  #  gets the feature's data in a matrix format for model input"
   ]
  },
  {
   "cell_type": "code",
   "execution_count": 58,
   "metadata": {},
   "outputs": [
    {
     "data": {
      "text/plain": [
       "array([[70., 90., 86., ..., 33., 28., 26.],\n",
       "       [89., 81., 87., ..., 28., 31., 23.],\n",
       "       [62., 84., 84., ..., 27., 24., 33.],\n",
       "       ...,\n",
       "       [70., 86., 73., ..., 75., 82., 70.],\n",
       "       [41., 83., 79., ..., 31., 25., 26.],\n",
       "       [81., 81., 74., ..., 90., 82., 80.]])"
      ]
     },
     "metadata": {},
     "output_type": "display_data"
    }
   ],
   "source": [
    "display(data_matrix)"
   ]
  },
  {
   "cell_type": "code",
   "execution_count": 59,
   "metadata": {},
   "outputs": [],
   "source": [
    "model = cluster.KMeans(n_clusters=5)\n",
    "model.fit(data_matrix)  # train the model\n",
    "labels = model.labels_  # get the clusters for each player"
   ]
  },
  {
   "cell_type": "code",
   "execution_count": 60,
   "metadata": {},
   "outputs": [
    {
     "name": "stdout",
     "output_type": "stream",
     "text": [
      "\n",
      "Silhouette Coefficient: 0.2313745768438614\n"
     ]
    }
   ],
   "source": [
    "score = silhouette_score(X=data_matrix, labels=labels)\n",
    "print(f'\\nSilhouette Coefficient:', score)"
   ]
  },
  {
   "cell_type": "markdown",
   "metadata": {},
   "source": [
    "### Genetic Algorithm (GA)\n",
    "Now we are going to start our GA to try to select one good set of features to train the model. This is a custom implementation just for learning proposes.\n",
    "#### GA parameters"
   ]
  },
  {
   "cell_type": "code",
   "execution_count": 61,
   "metadata": {},
   "outputs": [],
   "source": [
    "crossover_prob = 0.8  # crossover probability \n",
    "mutation_prob = 0.2  # mutation probability\n",
    "iterations = 100  # number of generations\n",
    "pool_size = 50  # population size"
   ]
  },
  {
   "cell_type": "markdown",
   "metadata": {},
   "source": [
    "#### Some variables initialization"
   ]
  },
  {
   "cell_type": "code",
   "execution_count": 62,
   "metadata": {},
   "outputs": [],
   "source": [
    "pool = np.array([]) # population array\n",
    "pool_old_gen = np.array([])  # parents population array (auxiliary)\n",
    "scores_old_gen = list()  # parents scores array\n",
    "fitness_old_gen = list()  # parents fitness array\n",
    "iterations_results = {}  # needed to show results chart"
   ]
  },
  {
   "cell_type": "markdown",
   "metadata": {},
   "source": [
    "#### Population Initialization\n",
    "We are going to use the random approach"
   ]
  },
  {
   "cell_type": "code",
   "execution_count": 63,
   "metadata": {},
   "outputs": [
    {
     "data": {
      "text/plain": [
       "array([[0, 0, 0, ..., 1, 1, 0],\n",
       "       [0, 0, 0, ..., 1, 1, 1],\n",
       "       [0, 1, 1, ..., 0, 1, 0],\n",
       "       ...,\n",
       "       [0, 1, 1, ..., 1, 1, 0],\n",
       "       [0, 1, 1, ..., 1, 1, 0],\n",
       "       [0, 0, 1, ..., 0, 0, 0]])"
      ]
     },
     "metadata": {},
     "output_type": "display_data"
    }
   ],
   "source": [
    "pool = np.random.randint(0, 2, (pool_size, data_matrix.shape[1]))\n",
    "display(pool)"
   ]
  },
  {
   "cell_type": "code",
   "execution_count": 64,
   "metadata": {},
   "outputs": [
    {
     "name": "stdout",
     "output_type": "stream",
     "text": [
      "Iteration 10 Complete [Time Taken For Last Iteration: 1.37]\n",
      "Iteration 20 Complete [Time Taken For Last Iteration: 1.32]\n",
      "Iteration 30 Complete [Time Taken For Last Iteration: 1.47]\n",
      "Iteration 40 Complete [Time Taken For Last Iteration: 1.57]\n",
      "Iteration 50 Complete [Time Taken For Last Iteration: 1.37]\n",
      "Iteration 60 Complete [Time Taken For Last Iteration: 1.38]\n",
      "Iteration 70 Complete [Time Taken For Last Iteration: 1.38]\n",
      "Iteration 80 Complete [Time Taken For Last Iteration: 1.41]\n",
      "Iteration 90 Complete [Time Taken For Last Iteration: 1.38]\n",
      "Iteration 100 Complete [Time Taken For Last Iteration: 1.4]\n"
     ]
    }
   ],
   "source": [
    "# start the iterations\n",
    "for iteration in range(0, iterations + 1):\n",
    "    start_time = time.time()\n",
    "    scores = list()\n",
    "    fitness = list()\n",
    "\n",
    "    # calculate the fitness of each chromosome\n",
    "    # in the fitness function will use the Silhouette Coefficient to calculate the score of the model -> [-1, 1]\n",
    "    # The Silhouette Coefficient is calculated using the mean intra-cluster distance (a) and the mean nearest-cluster distance (b) for each sample. \n",
    "    # The Silhouette Coefficient for a sample is (b - a) / max(a, b). \n",
    "    # To clarify, b is the distance between a sample and the nearest cluster that the sample is not a part of.\n",
    "    for chromosome in pool:\n",
    "        features_idx = [idx for idx, gene in enumerate(chromosome) if gene == 1]\n",
    "        adj_data_matrix = np.array(data_matrix[:, features_idx])\n",
    "\n",
    "        # train the model\n",
    "        model.fit(adj_data_matrix)\n",
    "        labels = model.labels_\n",
    "        score = silhouette_score(X=adj_data_matrix, labels=labels)\n",
    "        scores.append(score)\n",
    "        fitness = [x / sum(scores) for x in scores]\n",
    "        # print('Chromossome: {} -> {}'.format(chromosome, score))\n",
    "\n",
    "    #  check if exists an older generation. If yes, he performs the next generation selection based in the fitness\n",
    "    if len(pool_old_gen) > 0:\n",
    "        off_t = list(zip(fitness, scores, pool))\n",
    "        pool_t = list(zip(fitness_old_gen, scores_old_gen, pool_old_gen))\n",
    "        pool_tuple = np.array(sorted(off_t + pool_t, key=lambda x: x[1], reverse=True))[:pool_size]\n",
    "        fitness = [x[0] for x in pool_tuple]\n",
    "        scores = [x[1] for x in pool_tuple]\n",
    "        pool = [x[2] for x in pool_tuple]\n",
    "\n",
    "        # store scores for statistics\n",
    "        iterations_results['{}'.format(iteration)] = dict()\n",
    "        iterations_results['{}'.format(iteration)]['fitness'] = fitness\n",
    "        iterations_results['{}'.format(iteration)]['pool'] = pool\n",
    "        iterations_results['{}'.format(iteration)]['scores'] = scores\n",
    "\n",
    "    offspring = []\n",
    "\n",
    "    # execute the genetic operations\n",
    "    if iteration < iterations:\n",
    "        for idx in range(int(pool_size / 2)):\n",
    "            # select the parents randomly (there are several methods: roulette, tournament, rank, random)\n",
    "            parent_1 = pool[np.random.randint(0, pool_size)]\n",
    "            parent_2 = pool[np.random.randint(0, pool_size)]\n",
    "\n",
    "            # execute the crossover operation according its probability\n",
    "            # the method used is 1-point, but other methods exists, ex: multi-point\n",
    "            if np.random.random() < crossover_prob:\n",
    "                random_split_point = np.random.randint(1, len(parent_1))\n",
    "                child_1 = np.concatenate((parent_1[:random_split_point], parent_2[random_split_point:]), axis=0)\n",
    "                child_2 = np.concatenate((parent_2[:random_split_point], parent_1[random_split_point:]), axis=0)\n",
    "            else:\n",
    "                # if we dont execute x-over, the parents are used for next steps\n",
    "                child_1 = parent_1\n",
    "                child_2 = parent_2\n",
    "\n",
    "            # execute mutation in each gene according its probability\n",
    "            for idx, gene in enumerate(child_1):\n",
    "                if np.random.random() < mutation_prob:\n",
    "                    child_1[idx] = 1 - gene\n",
    "\n",
    "            for idx, gene in enumerate(child_2):\n",
    "                if np.random.random() < mutation_prob:\n",
    "                    child_2[idx] = 1 - gene\n",
    "\n",
    "            # add the new childs to the offspring\n",
    "            offspring.append(child_1)\n",
    "            offspring.append(child_2)\n",
    "        # save the parents generation\n",
    "        pool_old_gen = pool\n",
    "        scores_old_gen = scores\n",
    "        fitness_old_gen = fitness\n",
    "        # store the new offspring (but the new generation was not selected yet)\n",
    "        pool = offspring\n",
    "\n",
    "        # print progression\n",
    "        if iteration % 10 == 0 and iteration > 0:\n",
    "            end_time = time.time()\n",
    "            print('Iteration {} Complete [Time Taken For Last Iteration: {}]'\n",
    "                  .format(iteration, round(end_time - start_time, 2)))\n",
    "            \n",
    "# print last iteration\n",
    "print('Iteration {} Complete [Time Taken For Last Iteration: {}]'\n",
    "                  .format(iteration, round(time.time() - start_time, 2)))"
   ]
  },
  {
   "cell_type": "markdown",
   "metadata": {},
   "source": [
    "#### Print the result"
   ]
  },
  {
   "cell_type": "code",
   "execution_count": 65,
   "metadata": {},
   "outputs": [
    {
     "name": "stdout",
     "output_type": "stream",
     "text": [
      "\n",
      "Chosen solution:\n",
      "(array([1, 1, 0, 1, 0, 1, 0, 1, 1, 1, 0, 1, 1, 0, 1, 1, 1, 0, 1, 0, 1, 1,\n",
      "       0, 1, 1, 1, 0]), [0, 1, 3, 5, 7, 8, 9, 11, 12, 14, 15, 16, 18, 20, 21, 23, 24, 25])\n"
     ]
    },
    {
     "data": {
      "image/png": "[encoded data removed]",
      "text/plain": [
       "<Figure size 432x288 with 1 Axes>"
      ]
     },
     "metadata": {
      "needs_background": "light"
     },
     "output_type": "display_data"
    }
   ],
   "source": [
    "# print result\n",
    "solution = pool[0], [idx for idx, gene in enumerate(pool[0]) if gene == 1]\n",
    "print('\\nChosen solution:')\n",
    "print(solution)\n",
    "\n",
    "# plot the process chart\n",
    "%matplotlib inline\n",
    "avs = [np.mean(iterations_results[str(x)]['scores']) for x in range(1, iterations + 1)]\n",
    "avs0 = [np.mean(iterations_results[str(x)]['scores'][0]) for x in range(1, iterations + 1)]\n",
    "plt.plot(avs, label='Pool Average Score')\n",
    "plt.plot(avs0, label='Best Solution Score')\n",
    "plt.legend()\n",
    "plt.xlabel('Generations')\n",
    "plt.ylabel('Silhouette Coefficient ')\n",
    "plt.show()"
   ]
  },
  {
   "cell_type": "markdown",
   "metadata": {},
   "source": [
    "### Train the model with the features selected"
   ]
  },
  {
   "cell_type": "code",
   "execution_count": 66,
   "metadata": {},
   "outputs": [],
   "source": [
    "data_matrix = np.array(data_matrix[:, solution[1]])  # Filter the data_matrix with the features selected\n",
    "model.fit(data_matrix)  # train the model\n",
    "labels = model.labels_  # get the clusters for each player"
   ]
  },
  {
   "cell_type": "markdown",
   "metadata": {},
   "source": [
    "#### Print results"
   ]
  },
  {
   "cell_type": "code",
   "execution_count": 67,
   "metadata": {},
   "outputs": [
    {
     "name": "stdout",
     "output_type": "stream",
     "text": [
      "\n",
      "Players in cluster number 0\n",
      "Index(['D. Godín', 'G. Chiellini', 'K. Koulibaly', 'Piqué', 'V. van Dijk',\n",
      "       'R. Varane', 'L. Bonucci', 'M. Benatia', 'M. Škriniar', 'K. Manolas',\n",
      "       'N. Otamendi', 'J. Boateng', 'Naldo', 'Miranda', 'V. Kompany', 'Pepe',\n",
      "       'D. Sánchez', 'J. Giménez', 'A. Laporte', 'N. Süle', 'Marquinhos',\n",
      "       'S. de Vrij', 'Sokratis', 'Raúl Albiol', 'A. Barzagli',\n",
      "       'Josué Chiamulera', 'P. Kimpembe', 'J. Tah', 'Felipe', 'S. Savić',\n",
      "       'J. Stones', 'Nacho Fernández', 'F. Acerbi', 'K. Glik',\n",
      "       'Javi Martínez'],\n",
      "      dtype='object', name='Name')\n",
      "\n",
      "Players in cluster number 1\n",
      "Index(['L. Messi', 'Neymar Jr', 'E. Hazard', 'P. Dybala', 'M. Salah',\n",
      "       'L. Insigne', 'Coutinho', 'D. Mertens', 'L. Sané', 'Bernardo Silva',\n",
      "       'S. Mané', 'R. Sterling', 'Douglas Costa', 'M. Reus', 'M. Özil',\n",
      "       'Marco Asensio', 'N. Fekir', 'R. Mahrez', 'Y. Brahimi', 'H. Son',\n",
      "       'José Callejón', 'A. Di María', 'Willian', 'D. Payet', 'A. Gómez',\n",
      "       'Quaresma', 'A. Robben', 'O. Dembélé', 'Ronaldo Cabrais', 'K. Coman',\n",
      "       'Q. Promes', 'Lucas Vázquez', 'Y. Carrasco', 'S. Gnabry', 'Suso',\n",
      "       'J. Draxler', 'Felipe Anderson', 'Lucas Moura', 'H. Mkhitaryan',\n",
      "       'Giuliano', 'Juan Mata', 'F. Ribéry'],\n",
      "      dtype='object', name='Name')\n",
      "\n",
      "Players in cluster number 2\n",
      "Index(['Sergio Ramos', 'N. Kanté', 'Sergio Busquets', 'Casemiro', 'M. Hummels',\n",
      "       'Marcelo', 'Thiago Silva', 'S. Umtiti', 'P. Pogba', 'Jordi Alba',\n",
      "       'J. Vertonghen', 'Roberto Firmino', 'Alex Sandro', 'Azpilicueta',\n",
      "       'T. Alderweireld', 'Fernandinho', 'S. Milinković-Savić', 'J. Kimmich',\n",
      "       'Saúl', 'D. Alaba', 'Paulinho', 'A. Vidal', 'S. Khedira',\n",
      "       'R. Nainggolan', 'B. Matuidi', 'Filipe Luís', 'Alex Telles', 'D. Alli',\n",
      "       'Fabinho', 'William Carvalho', 'Carvajal', 'N. Matić', 'K. Walker',\n",
      "       'M. Mandžukić', 'A. Witsel', 'C. Tolisso', 'A. Rabiot', 'L. Goretzka',\n",
      "       'Manu Trigueros', 'Danilo Pereira', 'Allan', 'Sergi Roberto',\n",
      "       'I. Gueye', 'Marcos Alonso', 'K. Strootman', 'Luiz Gustavo',\n",
      "       'David Luiz', 'L. Bender', 'Lucas Leiva', 'M. Dembélé', 'D. De Rossi'],\n",
      "      dtype='object', name='Name')\n",
      "\n",
      "Players in cluster number 3\n",
      "Index(['Cristiano Ronaldo', 'L. Suárez', 'R. Lewandowski', 'H. Kane',\n",
      "       'A. Griezmann', 'E. Cavani', 'S. Agüero', 'K. Mbappé', 'P. Aubameyang',\n",
      "       'G. Bale', 'G. Higuaín', 'M. Icardi', 'R. Lukaku', 'C. Immobile',\n",
      "       'T. Müller', 'A. Lacazette', 'A. Sánchez', 'I. Perišić', 'E. Džeko',\n",
      "       'Diego Costa', 'K. Benzema', 'Z. Ibrahimović', 'A. Martial',\n",
      "       'F. Thauvin', 'M. Depay', 'Iago Aspas', 'Jonas', 'Falcao',\n",
      "       'Gabriel Jesus', 'Louri Beretta', 'T. Werner', 'Gerard Moreno',\n",
      "       'Rodrigo', 'B. Dost', 'M. Balotelli'],\n",
      "      dtype='object', name='Name')\n",
      "\n",
      "Players in cluster number 4\n",
      "Index(['K. De Bruyne', 'L. Modrić', 'T. Kroos', 'David Silva', 'J. Rodríguez',\n",
      "       'Isco', 'C. Eriksen', 'M. Hamšík', 'I. Rakitić', 'M. Verratti',\n",
      "       'Thiago', 'M. Pjanić', 'Iniesta', 'Koke', 'Parejo', 'Bruno Fernandes',\n",
      "       'Jorginho', 'J. Cuadrado', 'Illarramendi', 'I. Gündoğan', 'E. Banega',\n",
      "       'N. Keïta', 'T. Lemar', 'Anderson Talisca', 'H. Ziyech', 'M. Kovačić',\n",
      "       'Pizzi', 'K. Kampl', 'Oscar', 'Cesc Fàbregas'],\n",
      "      dtype='object', name='Name')\n",
      "\n",
      "Players in cluster number 5\n",
      "Index([], dtype='object', name='Name')\n",
      "\n",
      "Silhouette Coefficient: 0.24441687412430013\n"
     ]
    }
   ],
   "source": [
    "results = pd.DataFrame(labels, index=player_data.index, columns=['cluster_number'])\n",
    "player_data = player_data.join(results)\n",
    "\n",
    "for nr in range(6):\n",
    "    print(f'\\nPlayers in cluster number {nr}')\n",
    "    print(player_data[player_data['cluster_number'] == nr].index)\n",
    "\n",
    "score = silhouette_score(X=data_matrix, labels=labels)\n",
    "print(f'\\nSilhouette Coefficient:', score)"
   ]
  },
  {
   "cell_type": "markdown",
   "metadata": {},
   "source": [
    "#### Use our model to predict"
   ]
  },
  {
   "cell_type": "code",
   "execution_count": 68,
   "metadata": {},
   "outputs": [
    {
     "data": {
      "text/html": [
       "<div>\n",
       "<style scoped>\n",
       "    .dataframe tbody tr th:only-of-type {\n",
       "        vertical-align: middle;\n",
       "    }\n",
       "\n",
       "    .dataframe tbody tr th {\n",
       "        vertical-align: top;\n",
       "    }\n",
       "\n",
       "    .dataframe thead th {\n",
       "        text-align: right;\n",
       "    }\n",
       "</style>\n",
       "<table border=\"1\" class=\"dataframe\">\n",
       "  <thead>\n",
       "    <tr style=\"text-align: right;\">\n",
       "      <th></th>\n",
       "      <th>Crossing</th>\n",
       "      <th>Finishing</th>\n",
       "      <th>HeadingAccuracy</th>\n",
       "      <th>ShortPassing</th>\n",
       "      <th>Volleys</th>\n",
       "      <th>Dribbling</th>\n",
       "      <th>Curve</th>\n",
       "      <th>FKAccuracy</th>\n",
       "      <th>LongPassing</th>\n",
       "      <th>BallControl</th>\n",
       "      <th>...</th>\n",
       "      <th>LongShots</th>\n",
       "      <th>Aggression</th>\n",
       "      <th>Interceptions</th>\n",
       "      <th>Positioning</th>\n",
       "      <th>Vision</th>\n",
       "      <th>Penalties</th>\n",
       "      <th>Composure</th>\n",
       "      <th>Marking</th>\n",
       "      <th>StandingTackle</th>\n",
       "      <th>SlidingTackle</th>\n",
       "    </tr>\n",
       "    <tr>\n",
       "      <th>Name</th>\n",
       "      <th></th>\n",
       "      <th></th>\n",
       "      <th></th>\n",
       "      <th></th>\n",
       "      <th></th>\n",
       "      <th></th>\n",
       "      <th></th>\n",
       "      <th></th>\n",
       "      <th></th>\n",
       "      <th></th>\n",
       "      <th></th>\n",
       "      <th></th>\n",
       "      <th></th>\n",
       "      <th></th>\n",
       "      <th></th>\n",
       "      <th></th>\n",
       "      <th></th>\n",
       "      <th></th>\n",
       "      <th></th>\n",
       "      <th></th>\n",
       "      <th></th>\n",
       "    </tr>\n",
       "  </thead>\n",
       "  <tbody>\n",
       "    <tr>\n",
       "      <th>Óliver Torres</th>\n",
       "      <td>73.0</td>\n",
       "      <td>70.0</td>\n",
       "      <td>52.0</td>\n",
       "      <td>81.0</td>\n",
       "      <td>60.0</td>\n",
       "      <td>83.0</td>\n",
       "      <td>77.0</td>\n",
       "      <td>64.0</td>\n",
       "      <td>78.0</td>\n",
       "      <td>82.0</td>\n",
       "      <td>...</td>\n",
       "      <td>69.0</td>\n",
       "      <td>58.0</td>\n",
       "      <td>67.0</td>\n",
       "      <td>76.0</td>\n",
       "      <td>80.0</td>\n",
       "      <td>64.0</td>\n",
       "      <td>82.0</td>\n",
       "      <td>66.0</td>\n",
       "      <td>66.0</td>\n",
       "      <td>62.0</td>\n",
       "    </tr>\n",
       "    <tr>\n",
       "      <th>J. Mathieu</th>\n",
       "      <td>79.0</td>\n",
       "      <td>52.0</td>\n",
       "      <td>80.0</td>\n",
       "      <td>73.0</td>\n",
       "      <td>61.0</td>\n",
       "      <td>65.0</td>\n",
       "      <td>82.0</td>\n",
       "      <td>75.0</td>\n",
       "      <td>77.0</td>\n",
       "      <td>62.0</td>\n",
       "      <td>...</td>\n",
       "      <td>74.0</td>\n",
       "      <td>72.0</td>\n",
       "      <td>82.0</td>\n",
       "      <td>58.0</td>\n",
       "      <td>58.0</td>\n",
       "      <td>72.0</td>\n",
       "      <td>76.0</td>\n",
       "      <td>86.0</td>\n",
       "      <td>84.0</td>\n",
       "      <td>82.0</td>\n",
       "    </tr>\n",
       "    <tr>\n",
       "      <th>Rafa</th>\n",
       "      <td>77.0</td>\n",
       "      <td>66.0</td>\n",
       "      <td>46.0</td>\n",
       "      <td>75.0</td>\n",
       "      <td>64.0</td>\n",
       "      <td>86.0</td>\n",
       "      <td>76.0</td>\n",
       "      <td>56.0</td>\n",
       "      <td>64.0</td>\n",
       "      <td>84.0</td>\n",
       "      <td>...</td>\n",
       "      <td>61.0</td>\n",
       "      <td>41.0</td>\n",
       "      <td>43.0</td>\n",
       "      <td>78.0</td>\n",
       "      <td>75.0</td>\n",
       "      <td>59.0</td>\n",
       "      <td>77.0</td>\n",
       "      <td>23.0</td>\n",
       "      <td>38.0</td>\n",
       "      <td>31.0</td>\n",
       "    </tr>\n",
       "  </tbody>\n",
       "</table>\n",
       "<p>3 rows × 29 columns</p>\n",
       "</div>"
      ],
      "text/plain": [
       "               Crossing  Finishing  HeadingAccuracy  ShortPassing  Volleys  \\\n",
       "Name                                                                         \n",
       "Óliver Torres      73.0       70.0             52.0          81.0     60.0   \n",
       "J. Mathieu         79.0       52.0             80.0          73.0     61.0   \n",
       "Rafa               77.0       66.0             46.0          75.0     64.0   \n",
       "\n",
       "               Dribbling  Curve  FKAccuracy  LongPassing  BallControl  ...  \\\n",
       "Name                                                                   ...   \n",
       "Óliver Torres       83.0   77.0        64.0         78.0         82.0  ...   \n",
       "J. Mathieu          65.0   82.0        75.0         77.0         62.0  ...   \n",
       "Rafa                86.0   76.0        56.0         64.0         84.0  ...   \n",
       "\n",
       "               LongShots  Aggression  Interceptions  Positioning  Vision  \\\n",
       "Name                                                                       \n",
       "Óliver Torres       69.0        58.0           67.0         76.0    80.0   \n",
       "J. Mathieu          74.0        72.0           82.0         58.0    58.0   \n",
       "Rafa                61.0        41.0           43.0         78.0    75.0   \n",
       "\n",
       "               Penalties  Composure  Marking  StandingTackle  SlidingTackle  \n",
       "Name                                                                         \n",
       "Óliver Torres       64.0       82.0     66.0            66.0           62.0  \n",
       "J. Mathieu          72.0       76.0     86.0            84.0           82.0  \n",
       "Rafa                59.0       77.0     23.0            38.0           31.0  \n",
       "\n",
       "[3 rows x 29 columns]"
      ]
     },
     "metadata": {},
     "output_type": "display_data"
    },
    {
     "data": {
      "text/html": [
       "<div>\n",
       "<style scoped>\n",
       "    .dataframe tbody tr th:only-of-type {\n",
       "        vertical-align: middle;\n",
       "    }\n",
       "\n",
       "    .dataframe tbody tr th {\n",
       "        vertical-align: top;\n",
       "    }\n",
       "\n",
       "    .dataframe thead th {\n",
       "        text-align: right;\n",
       "    }\n",
       "</style>\n",
       "<table border=\"1\" class=\"dataframe\">\n",
       "  <thead>\n",
       "    <tr style=\"text-align: right;\">\n",
       "      <th></th>\n",
       "      <th>cluster_number</th>\n",
       "    </tr>\n",
       "    <tr>\n",
       "      <th>Name</th>\n",
       "      <th></th>\n",
       "    </tr>\n",
       "  </thead>\n",
       "  <tbody>\n",
       "    <tr>\n",
       "      <th>Óliver Torres</th>\n",
       "      <td>4</td>\n",
       "    </tr>\n",
       "    <tr>\n",
       "      <th>J. Mathieu</th>\n",
       "      <td>0</td>\n",
       "    </tr>\n",
       "    <tr>\n",
       "      <th>Rafa</th>\n",
       "      <td>1</td>\n",
       "    </tr>\n",
       "  </tbody>\n",
       "</table>\n",
       "</div>"
      ],
      "text/plain": [
       "               cluster_number\n",
       "Name                         \n",
       "Óliver Torres               4\n",
       "J. Mathieu                  0\n",
       "Rafa                        1"
      ]
     },
     "metadata": {},
     "output_type": "display_data"
    }
   ],
   "source": [
    "# prediction phase\n",
    "player_to_predict = player_data_raw.loc[['Óliver Torres', 'J. Mathieu', 'Rafa']]\n",
    "player_to_predict = player_to_predict[features_to_keep]\n",
    "display(player_to_predict)\n",
    "\n",
    "prediction_data_matrix = player_to_predict[list(player_to_predict.columns)[2:]].values\n",
    "prediction_data_matrix = np.array(prediction_data_matrix[:, solution[1]])\n",
    "predicted_labels = model.predict(prediction_data_matrix)\n",
    "predictions = pd.DataFrame(predicted_labels, index=player_to_predict.index, columns=['cluster_number'])\n",
    "display(predictions)"
   ]
  },
  {
   "cell_type": "markdown",
   "metadata": {},
   "source": [
    "\n",
    "### Conclusion\n",
    "\n",
    "With this example we can see how a Genetic Algorithm can be applied to a Machine Learning Algorithm as KMeans in Features Reduction phase. In this case the Fitness function was implemented using the Davies-Bouldin index.\n",
    "\n",
    "Try it yourself!\n",
    "\n",
    "You can try to tweak some parameters in the notebook and check how the model responds to that. Try changing:\n",
    "\n",
    "- Changing GA parameters\n",
    "- Changing fitness function\n",
    "- Changing parents selection and crossover method\n",
    "\n",
    "Have fun! Any question, I'll try to help.\n"
   ]
  },
  {
   "cell_type": "code",
   "execution_count": null,
   "metadata": {},
   "outputs": [],
   "source": []
  }
 ],
 "metadata": {
  "kernelspec": {
   "display_name": "Python 3",
   "language": "python",
   "name": "python3"
  },
  "language_info": {
   "codemirror_mode": {
    "name": "ipython",
    "version": 3
   },
   "file_extension": ".py",
   "mimetype": "text/x-python",
   "name": "python",
   "nbconvert_exporter": "python",
   "pygments_lexer": "ipython3",
   "version": "3.6.7"
  }
 },
 "nbformat": 4,
 "nbformat_minor": 2
}
